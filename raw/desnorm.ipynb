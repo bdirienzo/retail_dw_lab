{
 "cells": [
  {
   "metadata": {
    "ExecuteTime": {
     "end_time": "2025-09-16T22:08:50.687707Z",
     "start_time": "2025-09-16T22:08:50.684193Z"
    }
   },
   "cell_type": "code",
   "source": "import pandas as pd",
   "id": "f64d2b4f055ddb31",
   "outputs": [],
   "execution_count": 13
  },
  {
   "metadata": {
    "ExecuteTime": {
     "end_time": "2025-09-16T22:11:17.962975Z",
     "start_time": "2025-09-16T22:11:17.953128Z"
    }
   },
   "cell_type": "code",
   "source": [
    "# 1) Cargar CSVs\n",
    "products = pd.read_csv(\"products.csv\")\n",
    "categories = pd.read_csv(\"categories.csv\")"
   ],
   "id": "2e9d59a0bcd21587",
   "outputs": [],
   "execution_count": 23
  },
  {
   "metadata": {
    "ExecuteTime": {
     "end_time": "2025-09-16T22:11:26.360895Z",
     "start_time": "2025-09-16T22:11:26.351918Z"
    }
   },
   "cell_type": "code",
   "source": [
    "# 2) Merge simple: producto + nombre de categoría\n",
    "dim_producto = products.merge(\n",
    "    categories[[\"category_id\", \"category_name\", \"parent_category_id\"]],\n",
    "    on=\"category_id\",\n",
    "    how=\"left\",\n",
    "    validate=\"m:1\"  # cada producto pertenece a 1 categoría\n",
    ").rename(columns={\n",
    "    \"category_name\": \"categoria\",\n",
    "})\n"
   ],
   "id": "b23bc38fa54c9498",
   "outputs": [],
   "execution_count": 24
  },
  {
   "metadata": {
    "ExecuteTime": {
     "end_time": "2025-09-16T22:11:28.282079Z",
     "start_time": "2025-09-16T22:11:28.274791Z"
    }
   },
   "cell_type": "code",
   "source": [
    "# 3) (Opcional) Enriquecer con la categoría padre\n",
    "dim_producto = dim_producto.merge(\n",
    "    categories[[\"category_id\", \"category_name\"]]\n",
    "      .rename(columns={\"category_id\": \"parent_category_id\",\n",
    "                       \"category_name\": \"categoria_padre\"}),\n",
    "    on=\"parent_category_id\",\n",
    "    how=\"left\",\n",
    "    validate=\"m:1\"\n",
    ")"
   ],
   "id": "d54c4fd550a84c88",
   "outputs": [],
   "execution_count": 25
  },
  {
   "metadata": {
    "ExecuteTime": {
     "end_time": "2025-09-16T22:11:29.874796Z",
     "start_time": "2025-09-16T22:11:29.870392Z"
    }
   },
   "cell_type": "code",
   "source": [
    "# 4) Elegir y ordenar columnas “dim” prolijas\n",
    "cols = [\n",
    "    \"product_id\", \"sku\", \"product_name\", \"brand\",\n",
    "    \"categoria\", \"categoria_padre\",\n",
    "    \"unit_price\", \"unit_cost\",\n",
    "    \"active_from\", \"active_to\", \"created_at\"\n",
    "]\n",
    "dim_producto = dim_producto[cols]"
   ],
   "id": "c69b0e0183af4db5",
   "outputs": [],
   "execution_count": 26
  }
 ],
 "metadata": {
  "kernelspec": {
   "display_name": "Python 3",
   "language": "python",
   "name": "python3"
  },
  "language_info": {
   "codemirror_mode": {
    "name": "ipython",
    "version": 2
   },
   "file_extension": ".py",
   "mimetype": "text/x-python",
   "name": "python",
   "nbconvert_exporter": "python",
   "pygments_lexer": "ipython2",
   "version": "2.7.6"
  }
 },
 "nbformat": 4,
 "nbformat_minor": 5
}
